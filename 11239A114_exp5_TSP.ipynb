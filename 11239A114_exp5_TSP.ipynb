{
  "nbformat": 4,
  "nbformat_minor": 0,
  "metadata": {
    "colab": {
      "provenance": [],
      "authorship_tag": "ABX9TyNVLerneGArVS3IuJLuIJjO",
      "include_colab_link": true
    },
    "kernelspec": {
      "name": "python3",
      "display_name": "Python 3"
    },
    "language_info": {
      "name": "python"
    }
  },
  "cells": [
    {
      "cell_type": "markdown",
      "metadata": {
        "id": "view-in-github",
        "colab_type": "text"
      },
      "source": [
        "<a href=\"https://colab.research.google.com/github/Greeshmaperla/11239A114_DAA_LAB/blob/main/11239A114_exp5_TSP.ipynb\" target=\"_parent\"><img src=\"https://colab.research.google.com/assets/colab-badge.svg\" alt=\"Open In Colab\"/></a>"
      ]
    },
    {
      "cell_type": "code",
      "execution_count": 5,
      "metadata": {
        "colab": {
          "base_uri": "https://localhost:8080/"
        },
        "id": "2znXU-_ZIE9q",
        "outputId": "28d1701f-7516-4963-c8a7-c264386658f7"
      },
      "outputs": [
        {
          "output_type": "stream",
          "name": "stdout",
          "text": [
            "Minimum Cost: 80\n",
            "Shortest Path: 0 -> 1 -> 3 -> 2 -> 0\n"
          ]
        }
      ],
      "source": [
        "from functools import lru_cache\n",
        "\n",
        "# Distance matrix (graph[i][j] = distance from city i to city j)\n",
        "graph = [\n",
        "    [0, 10, 15, 20],\n",
        "    [10, 0, 35, 25],\n",
        "    [15, 35, 0, 30],\n",
        "    [20, 25, 30, 0]\n",
        "]\n",
        "n = len(graph)  # Number of cities\n",
        "\n",
        "@lru_cache(None)\n",
        "def tsp(pos, visited):\n",
        "    # Base case: all cities have been visited\n",
        "    if visited == (1 << n) - 1:\n",
        "        return graph[pos][0], [0]  # Return to starting city\n",
        "\n",
        "    min_cost, min_path = float('inf'), []\n",
        "\n",
        "    # Try visiting each unvisited city\n",
        "    for city in range(n):\n",
        "        if not visited & (1 << city):  # If city not visited\n",
        "            cost, path = tsp(city, visited | (1 << city))\n",
        "            cost += graph[pos][city]\n",
        "            if cost < min_cost:\n",
        "                min_cost = cost\n",
        "                min_path = [city] + path\n",
        "\n",
        "    return min_cost, min_path\n",
        "\n",
        "# Start the tour from city 0 and only city 0 is visited at the start\n",
        "cost, path = tsp(0, 1)\n",
        "\n",
        "# Print result\n",
        "print(f\"Minimum Cost: {cost}\")\n",
        "print(\"Shortest Path:\", ' -> '.join(map(str, [0] + path)))\n"
      ]
    }
  ]
}