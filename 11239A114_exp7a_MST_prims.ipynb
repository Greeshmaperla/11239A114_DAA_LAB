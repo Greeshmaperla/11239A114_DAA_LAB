{
  "nbformat": 4,
  "nbformat_minor": 0,
  "metadata": {
    "colab": {
      "provenance": [],
      "authorship_tag": "ABX9TyNNPmQnClGtD28Ro3g8FLLO",
      "include_colab_link": true
    },
    "kernelspec": {
      "name": "python3",
      "display_name": "Python 3"
    },
    "language_info": {
      "name": "python"
    }
  },
  "cells": [
    {
      "cell_type": "markdown",
      "metadata": {
        "id": "view-in-github",
        "colab_type": "text"
      },
      "source": [
        "<a href=\"https://colab.research.google.com/github/Greeshmaperla/11239A114_DAA_LAB/blob/main/11239A114_exp7a_MST_prims.ipynb\" target=\"_parent\"><img src=\"https://colab.research.google.com/assets/colab-badge.svg\" alt=\"Open In Colab\"/></a>"
      ]
    },
    {
      "cell_type": "code",
      "execution_count": 6,
      "metadata": {
        "colab": {
          "base_uri": "https://localhost:8080/"
        },
        "id": "9g5J8TjtScVb",
        "outputId": "9fa51fb3-a493-4097-8e53-7f79a29ccb95"
      },
      "outputs": [
        {
          "output_type": "stream",
          "name": "stdout",
          "text": [
            "Graph vertices:  [0, 1, 2, 3, 4]\n",
            "Graph edges with weights:\n",
            "Edge: 0 - 1, Weight: 2\n",
            "Edge: 0 - 3, Weight: 6\n",
            "Edge: 1 - 2, Weight: 3\n",
            "Edge: 1 - 3, Weight: 8\n",
            "Edge: 1 - 4, Weight: 5\n",
            "Edge: 2 - 4, Weight: 7\n",
            "Edge: 3 - 4, Weight: 9\n",
            "\n",
            "Minimum Spanning Tree edges:\n",
            "Edge: 0 - 1, Weight: 2\n",
            "Edge: 1 - 2, Weight: 3\n",
            "Edge: 1 - 4, Weight: 5\n",
            "Edge: 0 - 3, Weight: 6\n",
            "Total cost of MST: 16\n"
          ]
        }
      ],
      "source": [
        "import heapq\n",
        "\n",
        "class Graph:\n",
        "    def __init__(self, vertices):  # Fixed constructor name\n",
        "        self.V = vertices\n",
        "        self.graph = []\n",
        "\n",
        "    def add_edge(self, u, v, w):\n",
        "        self.graph.append((w, u, v))\n",
        "\n",
        "    def prim_mst(self):\n",
        "        self.graph.sort()\n",
        "        pq = []\n",
        "        in_mst = [False] * self.V\n",
        "        in_mst[0] = True\n",
        "\n",
        "        for weight, u, v in self.graph:\n",
        "            if u == 0 or v == 0:\n",
        "                heapq.heappush(pq, (weight, u, v))\n",
        "\n",
        "        mst_edges = []\n",
        "        total_cost = 0\n",
        "\n",
        "        while pq:\n",
        "            weight, u, v = heapq.heappop(pq)\n",
        "            if in_mst[u] and in_mst[v]:\n",
        "                continue\n",
        "            new_vertex = v if not in_mst[v] else u\n",
        "            in_mst[new_vertex] = True\n",
        "            mst_edges.append((u, v, weight))\n",
        "            total_cost += weight\n",
        "\n",
        "            for next_weight, next_u, next_v in self.graph:\n",
        "                if in_mst[next_u] and not in_mst[next_v]:\n",
        "                    heapq.heappush(pq, (next_weight, next_u, next_v))\n",
        "                elif in_mst[next_v] and not in_mst[next_u]:\n",
        "                    heapq.heappush(pq, (next_weight, next_v, next_u))\n",
        "\n",
        "        return mst_edges, total_cost\n",
        "\n",
        "    def display_graph(self):\n",
        "        print(\"Graph vertices: \", list(range(self.V)))\n",
        "        print(\"Graph edges with weights:\")\n",
        "        for weight, u, v in self.graph:\n",
        "            print(f\"Edge: {u} - {v}, Weight: {weight}\")\n",
        "\n",
        "def main():\n",
        "    g = Graph(5)\n",
        "    g.add_edge(0, 1, 2)\n",
        "    g.add_edge(0, 3, 6)\n",
        "    g.add_edge(1, 2, 3)\n",
        "    g.add_edge(1, 3, 8)\n",
        "    g.add_edge(1, 4, 5)\n",
        "    g.add_edge(2, 4, 7)\n",
        "    g.add_edge(3, 4, 9)\n",
        "\n",
        "    g.display_graph()\n",
        "\n",
        "    mst_edges, total_cost = g.prim_mst()\n",
        "\n",
        "    print(\"\\nMinimum Spanning Tree edges:\")\n",
        "    for u, v, weight in mst_edges:\n",
        "        print(f\"Edge: {u} - {v}, Weight: {weight}\")\n",
        "    print(f\"Total cost of MST: {total_cost}\")\n",
        "\n",
        "if __name__ == \"__main__\":\n",
        "    main()\n"
      ]
    }
  ]
}