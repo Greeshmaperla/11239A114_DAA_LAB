{
  "nbformat": 4,
  "nbformat_minor": 0,
  "metadata": {
    "colab": {
      "provenance": [],
      "authorship_tag": "ABX9TyMxzyTSJSFq3KqB8O2jMsU4",
      "include_colab_link": true
    },
    "kernelspec": {
      "name": "python3",
      "display_name": "Python 3"
    },
    "language_info": {
      "name": "python"
    }
  },
  "cells": [
    {
      "cell_type": "markdown",
      "metadata": {
        "id": "view-in-github",
        "colab_type": "text"
      },
      "source": [
        "<a href=\"https://colab.research.google.com/github/Greeshmaperla/11239A114_DAA_LAB/blob/main/11239A114_exp6b_floyd_warshall.ipynb\" target=\"_parent\"><img src=\"https://colab.research.google.com/assets/colab-badge.svg\" alt=\"Open In Colab\"/></a>"
      ]
    },
    {
      "cell_type": "code",
      "execution_count": 1,
      "metadata": {
        "colab": {
          "base_uri": "https://localhost:8080/"
        },
        "id": "jLgLp-mS9o5A",
        "outputId": "c0385989-d3fe-422d-83b4-c6ea825c2713"
      },
      "outputs": [
        {
          "output_type": "stream",
          "name": "stdout",
          "text": [
            "[0, 1, 2]\n",
            "[2, 0, 1]\n",
            "[1, 2, 0]\n"
          ]
        }
      ],
      "source": [
        "def floyd_warshall(graph):\n",
        "    n = len(graph)\n",
        "    dist = [[graph[i][j] if graph[i][j] != 0 else float('inf') for j in range(n)] for i in range(n)]\n",
        "    for i in range(n):\n",
        "        dist[i][i] = 0\n",
        "    for k in range(n):\n",
        "        for i in range(n):\n",
        "            for j in range(n):\n",
        "                dist[i][j] = min(dist[i][j], dist[i][k] + dist[k][j])\n",
        "    return dist\n",
        "graph = [\n",
        "    [0,1,2,3],\n",
        "    [3, 0 ,1,2],\n",
        "    [1, 3, 2,0],\n",
        "]\n",
        "result = floyd_warshall(graph)\n",
        "for row in result:\n",
        "  print(row)"
      ]
    }
  ]
}