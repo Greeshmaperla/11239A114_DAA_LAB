{
  "nbformat": 4,
  "nbformat_minor": 0,
  "metadata": {
    "colab": {
      "provenance": [],
      "authorship_tag": "ABX9TyNhBrTXpNgzPPEERPJx8c/X",
      "include_colab_link": true
    },
    "kernelspec": {
      "name": "python3",
      "display_name": "Python 3"
    },
    "language_info": {
      "name": "python"
    }
  },
  "cells": [
    {
      "cell_type": "markdown",
      "metadata": {
        "id": "view-in-github",
        "colab_type": "text"
      },
      "source": [
        "<a href=\"https://colab.research.google.com/github/Greeshmaperla/11239A114_DAA_LAB/blob/main/11239A114_exp8_Network_Flow_Algorithm.ipynb\" target=\"_parent\"><img src=\"https://colab.research.google.com/assets/colab-badge.svg\" alt=\"Open In Colab\"/></a>"
      ]
    },
    {
      "cell_type": "code",
      "execution_count": 1,
      "metadata": {
        "colab": {
          "base_uri": "https://localhost:8080/"
        },
        "id": "zN1hUCX6as2G",
        "outputId": "bc7eac26-3697-4901-dd3a-d8a5bae477bd"
      },
      "outputs": [
        {
          "output_type": "stream",
          "name": "stdout",
          "text": [
            "The maximum possible flow is: 23\n"
          ]
        }
      ],
      "source": [
        "from collections import deque\n",
        "\n",
        "# Breadth-First Search to find an augmenting path\n",
        "def bfs(rGraph, s, t, parent):\n",
        "    visited = [False] * len(rGraph)\n",
        "    queue = deque([s])\n",
        "    visited[s] = True\n",
        "\n",
        "    while queue:\n",
        "        u = queue.popleft()\n",
        "        for v, capacity in enumerate(rGraph[u]):\n",
        "            if not visited[v] and capacity > 0:\n",
        "                queue.append(v)\n",
        "                visited[v] = True\n",
        "                parent[v] = u\n",
        "\n",
        "    return visited[t]\n",
        "\n",
        "# Ford-Fulkerson algorithm using Edmonds-Karp (BFS)\n",
        "def edmonds_karp(graph, source, sink):\n",
        "    rGraph = [row[:] for row in graph]  # Residual graph\n",
        "    parent = [-1] * len(graph)\n",
        "    max_flow = 0\n",
        "\n",
        "    while bfs(rGraph, source, sink, parent):\n",
        "        path_flow = float('inf')\n",
        "        s = sink\n",
        "        while s != source:\n",
        "            path_flow = min(path_flow, rGraph[parent[s]][s])\n",
        "            s = parent[s]\n",
        "        max_flow += path_flow\n",
        "\n",
        "        v = sink\n",
        "        while v != source:\n",
        "            u = parent[v]\n",
        "            rGraph[u][v] -= path_flow\n",
        "            rGraph[v][u] += path_flow\n",
        "            v = parent[v]\n",
        "\n",
        "    return max_flow\n",
        "\n",
        "# Example usage\n",
        "graph = [\n",
        "    [0, 16, 13, 0, 0, 0],\n",
        "    [0, 0, 10, 12, 0, 0],\n",
        "    [0, 4, 0, 0, 14, 0],\n",
        "    [0, 0, 9, 0, 0, 20],\n",
        "    [0, 0, 0, 7, 0, 4],\n",
        "    [0, 0, 0, 0, 0, 0]\n",
        "]\n",
        "\n",
        "source = 0\n",
        "sink = 5\n",
        "\n",
        "print(\"The maximum possible flow is:\", edmonds_karp(graph, source, sink))\n"
      ]
    }
  ]
}