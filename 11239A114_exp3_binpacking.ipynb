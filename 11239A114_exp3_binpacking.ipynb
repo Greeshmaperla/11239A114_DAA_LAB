{
  "nbformat": 4,
  "nbformat_minor": 0,
  "metadata": {
    "colab": {
      "provenance": [],
      "authorship_tag": "ABX9TyNWtGdlejE9ay/AFyAPPR/7",
      "include_colab_link": true
    },
    "kernelspec": {
      "name": "python3",
      "display_name": "Python 3"
    },
    "language_info": {
      "name": "python"
    }
  },
  "cells": [
    {
      "cell_type": "markdown",
      "metadata": {
        "id": "view-in-github",
        "colab_type": "text"
      },
      "source": [
        "<a href=\"https://colab.research.google.com/github/Greeshmaperla/11239A114_DAA_LAB/blob/main/11239A114_exp3_binpacking.ipynb\" target=\"_parent\"><img src=\"https://colab.research.google.com/assets/colab-badge.svg\" alt=\"Open In Colab\"/></a>"
      ]
    },
    {
      "cell_type": "code",
      "execution_count": 1,
      "metadata": {
        "colab": {
          "base_uri": "https://localhost:8080/"
        },
        "id": "2bwRz4U567Yp",
        "outputId": "df73baea-7b5a-4bc8-d7c0-832d92fe7311"
      },
      "outputs": [
        {
          "output_type": "stream",
          "name": "stdout",
          "text": [
            "First-Fit: 2 bins -> [10, 10]\n",
            "Best-Fit: 2 bins -> [10, 10]\n",
            "First-Fit Decreasing: 2 bins -> [10, 10]\n"
          ]
        }
      ],
      "source": [
        "def first_fit(items, cap):\n",
        "    bins = []\n",
        "    for item in items:\n",
        "        for i in range(len(bins)):\n",
        "            if bins[i] + item <= cap:\n",
        "                bins[i] += item\n",
        "                break\n",
        "        else:\n",
        "            bins.append(item)\n",
        "    return bins\n",
        "\n",
        "def best_fit(items, cap):\n",
        "    bins = []\n",
        "    for item in items:\n",
        "        best = -1\n",
        "        min_space = cap + 1\n",
        "        for i, b in enumerate(bins):\n",
        "            space = cap - (b + item)\n",
        "            if space >= 0 and space < min_space:\n",
        "                best = i\n",
        "                min_space = space\n",
        "        if best != -1:\n",
        "            bins[best] += item\n",
        "        else:\n",
        "            bins.append(item)\n",
        "    return bins\n",
        "\n",
        "def first_fit_decreasing(items, cap):\n",
        "    return first_fit(sorted(items, reverse=True), cap)\n",
        "\n",
        "# Example\n",
        "items = [4, 8, 1, 4, 2, 1]\n",
        "cap = 10\n",
        "\n",
        "ff = first_fit(items.copy(), cap)\n",
        "bf = best_fit(items.copy(), cap)\n",
        "ffd = first_fit_decreasing(items.copy(), cap)\n",
        "\n",
        "print(f\"First-Fit: {len(ff)} bins -> {ff}\")\n",
        "print(f\"Best-Fit: {len(bf)} bins -> {bf}\")\n",
        "print(f\"First-Fit Decreasing: {len(ffd)} bins -> {ffd}\")\n",
        "\n"
      ]
    }
  ]
}